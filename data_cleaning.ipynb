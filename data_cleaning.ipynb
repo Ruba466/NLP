{
 "cells": [
  {
   "cell_type": "code",
   "execution_count": 47,
   "id": "f93c4f5e-dfb3-4934-b595-4e3e6c0a73e8",
   "metadata": {},
   "outputs": [],
   "source": [
    "import re"
   ]
  },
  {
   "cell_type": "code",
   "execution_count": 48,
   "id": "47fe933c-e4e4-458e-86be-85022042e9c5",
   "metadata": {},
   "outputs": [],
   "source": [
    "text=\"\"\"\n",
    "Hey! Contact me at person@example.com.  \n",
    "The event was on 04/07/2025, and another one on July 4, 2025. \n",
    "Visit for more info... \n",
    "We also met on 2025-07-04. \n",
    "Call me!!!    Or not... 😅😅   \n",
    "\"\"\"\n"
   ]
  },
  {
   "cell_type": "code",
   "execution_count": 49,
   "id": "a2b9f3f5-94d9-4857-80e4-7a275fcc48fe",
   "metadata": {},
   "outputs": [
    {
     "name": "stdout",
     "output_type": "stream",
     "text": [
      "\n",
      "Hey! Contact me at person@example.com.  \n",
      "The event was on 04/07/2025, and another one on July 4, 2025. \n",
      "Visit for more info... \n",
      "We also met on 2025-07-04. \n",
      "Call me!!!    Or not... 😅😅   \n",
      "\n"
     ]
    }
   ],
   "source": [
    "print(text)"
   ]
  },
  {
   "cell_type": "code",
   "execution_count": 50,
   "id": "51ddc785-2bdf-47bd-a37e-a2621f936e67",
   "metadata": {},
   "outputs": [
    {
     "name": "stdout",
     "output_type": "stream",
     "text": [
      "\n",
      "Hey! Contact me at   \n",
      "The event was on 04/07/2025, and another one on July 4, 2025. \n",
      "Visit for more info... \n",
      "We also met on 2025-07-04. \n",
      "Call me!!!    Or not... 😅😅   \n",
      "\n"
     ]
    }
   ],
   "source": [
    "clean_text=re.sub(r'\\S+@\\S+',\"\",text)\n",
    "print(clean_text)\n"
   ]
  },
  {
   "cell_type": "code",
   "execution_count": 51,
   "id": "9b71328d-23a9-45bf-a657-851c9d714173",
   "metadata": {},
   "outputs": [
    {
     "name": "stdout",
     "output_type": "stream",
     "text": [
      "\n",
      "Hey! Contact me at   \n",
      "The event was on , and another one on . \n",
      "Visit for more info... \n",
      "We also met on . \n",
      "Call me!!!    Or not... 😅😅   \n",
      "\n"
     ]
    }
   ],
   "source": [
    "clean_text=re.sub(r'[0-9]+[/-][0-9]+[-/][0-9]+',\"\",clean_text)\n",
    "clean_text = re.sub(r'\\b(?:January|February|March|April|May|June|July|August|September|October|November|December)\\s+\\d{1,2},\\s+\\d{4}', '', clean_text, flags=re.IGNORECASE)\n",
    "print(clean_text)"
   ]
  },
  {
   "cell_type": "code",
   "execution_count": 53,
   "id": "456fcd5a-898c-4bcc-a39c-bcf656c2f67a",
   "metadata": {},
   "outputs": [
    {
     "name": "stdout",
     "output_type": "stream",
     "text": [
      " Hey! Contact me at The event was on , and another one on . Visit for more info... We also met on . Call me!!! Or not... 😅😅 \n"
     ]
    }
   ],
   "source": [
    "clean_text = re.sub(r'\\s+', ' ', clean_text)\n",
    "print(clean_text)"
   ]
  },
  {
   "cell_type": "code",
   "execution_count": 54,
   "id": "4b12da8e-e698-4399-a599-691267b06efe",
   "metadata": {},
   "outputs": [
    {
     "name": "stdout",
     "output_type": "stream",
     "text": [
      " Hey! Contact me at The event was on , and another one on . Visit for more info... We also met on . Call me!!! Or not...  \n"
     ]
    }
   ],
   "source": [
    "clean_text = re.sub(r'[^\\x00-\\x7F]+', '', clean_text)\n",
    "print(clean_text)"
   ]
  },
  {
   "cell_type": "code",
   "execution_count": 56,
   "id": "1aa10d7c-861e-4375-8b5a-733678bf4353",
   "metadata": {},
   "outputs": [
    {
     "name": "stdout",
     "output_type": "stream",
     "text": [
      " Hey! Contact me at The event was on, and another one on. Visit for more info. We also met on. Call me! Or not.  \n"
     ]
    }
   ],
   "source": [
    "clean_text = re.sub(r'([.!?,])\\1{1,}', r'\\1', clean_text)\n",
    "clean_text = re.sub(r'\\s+([?.!,])', r'\\1', clean_text)\n",
    "print(clean_text)"
   ]
  },
  {
   "cell_type": "code",
   "execution_count": null,
   "id": "65e9b080-66f3-4926-b48b-74c20db0dc37",
   "metadata": {},
   "outputs": [],
   "source": []
  }
 ],
 "metadata": {
  "kernelspec": {
   "display_name": "Python 3 (ipykernel)",
   "language": "python",
   "name": "python3"
  },
  "language_info": {
   "codemirror_mode": {
    "name": "ipython",
    "version": 3
   },
   "file_extension": ".py",
   "mimetype": "text/x-python",
   "name": "python",
   "nbconvert_exporter": "python",
   "pygments_lexer": "ipython3",
   "version": "3.10.0"
  }
 },
 "nbformat": 4,
 "nbformat_minor": 5
}
