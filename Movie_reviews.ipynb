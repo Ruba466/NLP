{
 "cells": [
  {
   "cell_type": "code",
   "execution_count": 2,
   "id": "f2faaaa0",
   "metadata": {},
   "outputs": [],
   "source": [
    "import nltk\n",
    "import pandas as pd\n",
    "import random"
   ]
  },
  {
   "cell_type": "code",
   "execution_count": 3,
   "id": "bc850696",
   "metadata": {},
   "outputs": [],
   "source": [
    "from nltk.corpus import movie_reviews\n",
    "\n",
    "#nltk.download('movie_reviews')"
   ]
  },
  {
   "cell_type": "code",
   "execution_count": 4,
   "id": "55e527a6",
   "metadata": {},
   "outputs": [],
   "source": [
    "from sklearn.feature_extraction.text import CountVectorizer,TfidfTransformer\n",
    "\n",
    "documents = [(movie_reviews.raw(fileid), category)\n",
    "            for category in movie_reviews.categories()\n",
    "            for fileid in movie_reviews.fileids(category)]"
   ]
  },
  {
   "cell_type": "code",
   "execution_count": 5,
   "id": "e29cd1a2",
   "metadata": {},
   "outputs": [
    {
     "name": "stdout",
     "output_type": "stream",
     "text": [
      "                                            review_text label\n",
      "1873  in roger michell's romantic comedy notting hil...   pos\n",
      "399   you'd think that after awhile hollywood would ...   neg\n",
      "1322  now , lets first look into the history of shar...   pos\n",
      "1614  mickey mouse had better watch his back -- ther...   pos\n",
      "1976  robert redford's a river runs through it is no...   pos\n"
     ]
    }
   ],
   "source": [
    "df = pd.DataFrame(documents, columns=['review_text', 'label'])\n",
    "random.shuffle(documents)\n",
    "print(df.sample(5))"
   ]
  },
  {
   "cell_type": "code",
   "execution_count": 7,
   "id": "6e9cd25d",
   "metadata": {},
   "outputs": [],
   "source": [
    "from nltk.corpus import stopwords\n",
    "#nltk.download('stopwords')\n",
    "\n",
    "stop_words = set(stopwords.words('english'))"
   ]
  },
  {
   "cell_type": "code",
   "execution_count": 8,
   "id": "fac5b6a8",
   "metadata": {},
   "outputs": [],
   "source": [
    "from nltk.tokenize import word_tokenize\n",
    "\n",
    "def preprocess(text):\n",
    "    text = text.lower()\n",
    "    words = word_tokenize(text)\n",
    "    words = [w for w in words if w.isalnum() and w not in stop_words]\n",
    "    return ' '.join(words)\n",
    "df['cleaned_review'] = df['review_text'].apply(preprocess)\n"
   ]
  },
  {
   "cell_type": "code",
   "execution_count": 9,
   "id": "1cd27ef3",
   "metadata": {},
   "outputs": [
    {
     "name": "stdout",
     "output_type": "stream",
     "text": [
      "plot two teen couples go church party drink drive get accident one guys dies girlfriend continues see life nightmares deal watch movie sorta find critique movie teen generation touches cool idea presents bad package makes review even harder one write since generally applaud films attempt break mold mess head lost highway memento good bad ways making types films folks snag one correctly seem taken pretty neat concept executed terribly problems movie well main problem simply jumbled starts normal downshifts fantasy world audience member idea going dreams characters coming back dead others look like dead strange apparitions disappearances looooot chase scenes tons weird things happen simply explained personally mind trying unravel film every give clue get kind fed film biggest problem obviously got big secret hide seems want hide completely final five minutes make things entertaining thrilling even engaging meantime really sad part arrow dig flicks like actually figured point strangeness start make little bit sense still make film entertaining guess bottom line movies like always make sure audience even given secret password enter world understanding mean showing melissa sagemiller running away visions 20 minutes throughout movie plain lazy okay get people chasing know really need see giving us different scenes offering insight strangeness going movie apparently studio took film away director chopped shows might pretty decent teen movie somewhere guess suits decided turning music video little edge would make sense actors pretty good part although wes bentley seemed playing exact character american beauty new neighborhood biggest kudos go sagemiller holds throughout entire film actually feeling character unraveling overall film stick entertain confusing rarely excites feels pretty redundant runtime despite pretty cool ending explanation craziness came oh way horror teen slasher flick packaged look way someone apparently assuming genre still hot kids also wrapped production two years ago sitting shelves ever since whatever skip joblo coming nightmare elm street 3 blair witch 2 crow crow salvation lost highway memento others stir echoes\n"
     ]
    }
   ],
   "source": [
    "print(df['cleaned_review'].iloc[0])"
   ]
  },
  {
   "cell_type": "code",
   "execution_count": 15,
   "id": "7cb16009",
   "metadata": {},
   "outputs": [],
   "source": [
    "from sklearn.feature_extraction.text import CountVectorizer\n",
    "\n",
    "bow_vectorizer = CountVectorizer(max_features=50)\n",
    "bow_matrix = bow_vectorizer.fit_transform(df['cleaned_review'])\n",
    "bow_df = pd.DataFrame(bow_matrix.toarray(), columns=bow_vectorizer.get_feature_names_out())\n"
   ]
  },
  {
   "cell_type": "code",
   "execution_count": 16,
   "id": "e5d5d202",
   "metadata": {},
   "outputs": [
    {
     "name": "stdout",
     "output_type": "stream",
     "text": [
      "   action  also  another  back  bad  best  character  characters  could  \\\n",
      "0       0     1        0     1    2     0          2           1      0   \n",
      "1       1     0        1     1    0     0          0           0      0   \n",
      "2       0     0        0     0    0     1          0           3      0   \n",
      "3       0     0        0     0    0     1          0           1      0   \n",
      "4       0     1        3     0    2     0          1           0      0   \n",
      "\n",
      "   director  ...  seems  something  still  story  time  two  us  way  well  \\\n",
      "0         1  ...      1          0      2      0     0    2   1    2     1   \n",
      "1         0  ...      0          0      1      1     1    0   0    0     1   \n",
      "2         0  ...      0          0      0      0     1    1   2    2     0   \n",
      "3         0  ...      0          1      0      1     1    0   0    1     0   \n",
      "4         0  ...      1          1      1      3     1    1   0    1     0   \n",
      "\n",
      "   would  \n",
      "0      1  \n",
      "1      0  \n",
      "2      1  \n",
      "3      0  \n",
      "4      0  \n",
      "\n",
      "[5 rows x 50 columns]\n"
     ]
    }
   ],
   "source": [
    "print(bow_df.head())"
   ]
  },
  {
   "cell_type": "code",
   "execution_count": 17,
   "id": "eab49181",
   "metadata": {},
   "outputs": [
    {
     "name": "stdout",
     "output_type": "stream",
     "text": [
      "film     9443\n",
      "movie    5671\n",
      "one      5582\n",
      "like     3547\n",
      "even     2556\n",
      "good     2316\n",
      "time     2282\n",
      "would    2264\n",
      "story    2146\n",
      "much     2024\n",
      "dtype: int64\n"
     ]
    }
   ],
   "source": [
    "word_freq = bow_df.sum().sort_values(ascending=False)\n",
    "print(word_freq.head(10))"
   ]
  },
  {
   "cell_type": "code",
   "execution_count": 18,
   "id": "02807c65",
   "metadata": {},
   "outputs": [
    {
     "name": "stdout",
     "output_type": "stream",
     "text": [
      "These frequent words likely reflect common movie review sentiments or themes.\n"
     ]
    }
   ],
   "source": [
    "print(\"These frequent words likely reflect common movie review sentiments or themes.\")"
   ]
  },
  {
   "cell_type": "code",
   "execution_count": 19,
   "id": "6d1e7ee3",
   "metadata": {},
   "outputs": [],
   "source": [
    "from sklearn.feature_extraction.text import TfidfVectorizer"
   ]
  },
  {
   "cell_type": "code",
   "execution_count": 28,
   "id": "a3cc3299",
   "metadata": {},
   "outputs": [],
   "source": [
    "tf_idf_vectorizer = TfidfVectorizer(max_features=50)\n",
    "tfidf_matrix = tf_idf_vectorizer.fit_transform(df['cleaned_review'])\n",
    "tfidf_df = pd.DataFrame(tfidf_matrix.toarray(), columns=tf_idf_vectorizer.get_feature_names_out())"
   ]
  },
  {
   "cell_type": "code",
   "execution_count": 29,
   "id": "fff2051f",
   "metadata": {},
   "outputs": [
    {
     "name": "stdout",
     "output_type": "stream",
     "text": [
      "     action      also   another      back       bad      best  character  \\\n",
      "0  0.000000  0.076414  0.000000  0.095152  0.184594  0.000000   0.155680   \n",
      "1  0.176281  0.000000  0.146292  0.153936  0.000000  0.000000   0.000000   \n",
      "2  0.000000  0.000000  0.000000  0.000000  0.000000  0.100430   0.000000   \n",
      "3  0.000000  0.000000  0.000000  0.000000  0.000000  0.206833   0.000000   \n",
      "4  0.000000  0.107756  0.382550  0.000000  0.260308  0.000000   0.109768   \n",
      "\n",
      "   characters  could  director  ...     seems  something     still     story  \\\n",
      "0    0.081266    0.0  0.088971  ...  0.097292   0.000000  0.192687  0.000000   \n",
      "1    0.000000    0.0  0.000000  ...  0.000000   0.000000  0.155865  0.123693   \n",
      "2    0.278214    0.0  0.000000  ...  0.000000   0.000000  0.000000  0.000000   \n",
      "3    0.190992    0.0  0.000000  ...  0.000000   0.223319  0.000000  0.179692   \n",
      "4    0.000000    0.0  0.000000  ...  0.137198   0.133995  0.135861  0.323455   \n",
      "\n",
      "       time       two        us       way      well     would  \n",
      "0  0.000000  0.156956  0.099535  0.158436  0.080159  0.072136  \n",
      "1  0.113464  0.000000  0.000000  0.000000  0.129682  0.000000  \n",
      "2  0.080036  0.089557  0.227174  0.180802  0.000000  0.082320  \n",
      "3  0.164832  0.000000  0.000000  0.186179  0.000000  0.000000  \n",
      "4  0.098902  0.110667  0.000000  0.111710  0.000000  0.000000  \n",
      "\n",
      "[5 rows x 50 columns]\n"
     ]
    }
   ],
   "source": [
    "print(tfidf_df.head())"
   ]
  },
  {
   "cell_type": "code",
   "execution_count": 33,
   "id": "fc086c8e",
   "metadata": {},
   "outputs": [
    {
     "name": "stdout",
     "output_type": "stream",
     "text": [
      "make     0.396789\n",
      "movie    0.355648\n",
      "film     0.320110\n",
      "get      0.227020\n",
      "even     0.202996\n",
      "Name: 0, dtype: float64\n"
     ]
    }
   ],
   "source": [
    "top5 = tfidf_df.iloc[0].sort_values(ascending=False)\n",
    "print(top5.head())"
   ]
  },
  {
   "cell_type": "code",
   "execution_count": 34,
   "id": "a345f297",
   "metadata": {},
   "outputs": [
    {
     "name": "stdout",
     "output_type": "stream",
     "text": [
      "TF-IDF downweights common words and emphasizes unique ones, unlike BoW.\n"
     ]
    }
   ],
   "source": [
    "print(\"TF-IDF downweights common words and emphasizes unique ones, unlike BoW.\")"
   ]
  },
  {
   "cell_type": "code",
   "execution_count": null,
   "id": "ac89cf3a",
   "metadata": {},
   "outputs": [],
   "source": []
  }
 ],
 "metadata": {
  "kernelspec": {
   "display_name": "venv",
   "language": "python",
   "name": "python3"
  },
  "language_info": {
   "codemirror_mode": {
    "name": "ipython",
    "version": 3
   },
   "file_extension": ".py",
   "mimetype": "text/x-python",
   "name": "python",
   "nbconvert_exporter": "python",
   "pygments_lexer": "ipython3",
   "version": "3.10.0"
  }
 },
 "nbformat": 4,
 "nbformat_minor": 5
}
